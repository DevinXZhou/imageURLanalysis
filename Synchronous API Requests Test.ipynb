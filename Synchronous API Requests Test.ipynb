{
 "cells": [
  {
   "cell_type": "code",
   "execution_count": 1,
   "metadata": {},
   "outputs": [
    {
     "name": "stdout",
     "output_type": "stream",
     "text": [
      "Obtained 5146 URLs\n"
     ]
    }
   ],
   "source": [
    "#get image urls\n",
    "from os import walk\n",
    "import pandas as pd\n",
    "#import random\n",
    "\n",
    "def fetchURLfrom_csvFolder(path): # You need oganize these URLs\n",
    "    files = []\n",
    "    for (dirpath, dirnames, filenames) in walk(path):\n",
    "        for name in filenames:\n",
    "            if '.csv' in name:\n",
    "                p = '../data/'+name\n",
    "                files.append(p)\n",
    "        break\n",
    "    url_set = set()\n",
    "    for f in files:\n",
    "        df = pd.read_csv(f)\n",
    "        url_set = url_set | set(df['image'])\n",
    "    url_list = list(url_set)\n",
    "    print('Obtained {} URLs'.format(len(url_list)))\n",
    "    #random.shuffle(url_list)\n",
    "    return url_list\n",
    "\n",
    "url_list = fetchURLfrom_csvFolder('../data/')\n",
    "\n",
    "\n",
    "#******************************************************************************************************#\n",
    "\n",
    "import threading\n",
    "import time\n",
    "import requests\n",
    "API_End = 'https://focdujc0w8.execute-api.us-west-2.amazonaws.com/Stage0/image_url_analyze?img_url='\n",
    "\n",
    "def cleanJSON_print(jsonContent):\n",
    "    keyLen = 0\n",
    "    for k in jsonContent:\n",
    "        keyLen = max(len(k), keyLen)\n",
    "    for k in jsonContent:\n",
    "        print ('{}{}: {}'.format(k,  ' '*(keyLen - len(k)), jsonContent[k]))\n",
    "\n",
    "def analyze_from_API(URL):\n",
    "    newURL = API_End + URL.replace('&', '|')\n",
    "    response = None\n",
    "    URL_score = 0 # ------------------> \n",
    "    try:\n",
    "        response = requests.get(newURL)\n",
    "    except Exception as e:\n",
    "        print('Error: {}'.format(e))\n",
    "        return\n",
    "    if response and response.status_code == 200:\n",
    "        jsonContent = response.json()\n",
    "        ############### Implement Here ###############\n",
    "        # Calculate URL Image score from json format \"jsonContent\"\n",
    "        \n",
    "        ##############################################\n",
    "        \n",
    "    else:\n",
    "        print('Response status code: {}'.format(response.status_code))\n",
    "    return URL_score # return score- ---------------------->\n",
    "        \n",
    "\n",
    "class myThread(threading.Thread):\n",
    "    def __init__(self, threadID, URL):\n",
    "        threading.Thread.__init__(self)\n",
    "        self.threadID = threadID\n",
    "        self.name = 'Thread-' + str(threadID)\n",
    "        self.url = URL\n",
    "    def run(self):\n",
    "        print(\"Starting <{}>\\n\".format(self.name))\n",
    "        #threadLock.acquire()\n",
    "        score = analyze_from_API(self.url) # Obtain score here !!!!! -------------------->\n",
    "        global globalNums\n",
    "        globalNums -= 1\n",
    "        print(\"Ended <{}> at time ({})\\n\".format(self.name, time.ctime(time.time()) ))\n",
    "        \n",
    "        #threadLock.release()\n",
    "\n",
    "# Example to create new threads\n",
    "# thread1 = myThread(1)\n",
    "# thread2 = myThread(2)\n",
    "\n",
    "# # Start new Threads\n",
    "# thread1.start()\n",
    "# thread2.start()"
   ]
  },
  {
   "cell_type": "code",
   "execution_count": 3,
   "metadata": {
    "scrolled": false
   },
   "outputs": [
    {
     "name": "stdout",
     "output_type": "stream",
     "text": [
      "Starting <Thread-1>\n",
      "\n",
      "Starting <Thread-2>\n",
      "\n",
      "Starting <Thread-3>\n",
      "Starting <Thread-4>\n",
      "Starting <Thread-5>\n",
      "\n",
      "\n",
      "\n",
      "Ended <Thread-4> at time (Tue Feb  4 16:24:47 2020)\n",
      "\n",
      "Ended <Thread-3> at time (Tue Feb  4 16:24:47 2020)\n",
      "\n",
      "Ended <Thread-1> at time (Tue Feb  4 16:24:47 2020)\n",
      "\n",
      "Ended <Thread-2> at time (Tue Feb  4 16:24:47 2020)\n",
      "\n",
      "Ended <Thread-5> at time (Tue Feb  4 16:24:48 2020)\n",
      "\n",
      "Main Thread Completed\n"
     ]
    }
   ],
   "source": [
    "#threadLock = threading.Lock()\n",
    "global globalNums\n",
    "globalNums = 5\n",
    "threads = [0]*globalNums\n",
    "for i, url in enumerate(url_list[0:globalNums]):\n",
    "    threads[i] = myThread(i+1, url)\n",
    "for t in threads:\n",
    "    t.start()\n",
    "for t in threads:\n",
    "    t.join()\n",
    "\n",
    "if globalNums <= 0:\n",
    "    print('Main Thread Completed')"
   ]
  },
  {
   "cell_type": "code",
   "execution_count": null,
   "metadata": {},
   "outputs": [],
   "source": []
  }
 ],
 "metadata": {
  "kernelspec": {
   "display_name": "Python 3",
   "language": "python",
   "name": "python3"
  },
  "language_info": {
   "codemirror_mode": {
    "name": "ipython",
    "version": 3
   },
   "file_extension": ".py",
   "mimetype": "text/x-python",
   "name": "python",
   "nbconvert_exporter": "python",
   "pygments_lexer": "ipython3",
   "version": "3.7.3"
  }
 },
 "nbformat": 4,
 "nbformat_minor": 2
}
